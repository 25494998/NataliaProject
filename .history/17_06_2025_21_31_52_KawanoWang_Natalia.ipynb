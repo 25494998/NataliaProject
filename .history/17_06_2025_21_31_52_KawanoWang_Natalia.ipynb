{
 "cells": [
  {
   "cell_type": "markdown",
   "id": "6be88658-1989-43ae-aa1d-7c0812599c99",
   "metadata": {},
   "source": [
    "# Title: Accuracy of Predicting Newsletter Subscription by Looking at Player's Age and Hours Played #"
   ]
  },
  {
   "cell_type": "markdown",
   "id": "612c217f-1624-4fab-a36b-221cc4d9b865",
   "metadata": {},
   "source": [
    "## Introduction ##\n",
    "##### Understanding user engagement in online platforms such as video games is critical for developers and researchers. In this project, I analyze data from a Minecraft research server to determine if using players' **age** and **hours played** can be a reliable way to predict whether they subscribe to a game-related newsletter.The aim of this project is to help a research group at UBC target their recruitment efforts #####\n",
    "\n",
    "#### Question:  ####\n",
    "##### How accurately can hours played and age of a player predict if they are going to subscribe to the newsletter or not? #####\n",
    "\n",
    "\n",
    "\n",
    "\n",
    "##### For this project I used the data _players.csv_, which contains the following variables: #####\n",
    "| Variable       | Description                                      | Type        |\n",
    "|----------------|--------------------------------------------------|-------------|\n",
    "| experience     | Experience metric (not used in this analysis)    | Numeric     |\n",
    "| subscribe      | Whether the player subscribed to the newsletter  | Logical |\n",
    "| hashedEmail    | Unique identifier for player (not used)          | Text        |\n",
    "| played_hours   | Total hours the player played                    | Numeric     |\n",
    "| name           | Player name (not used)                           | Text        |\n",
    "| gender         | Player gender (not used)                         | Text        |\n",
    "| Age            | Player age                                       | Numeric     |\n",
    "\n",
    "\n",
    "##### This dataset contains 196 observations. #####"
   ]
  },
  {
   "cell_type": "markdown",
   "id": "bb762585-3e75-4a78-b9da-4e6d8559b7a4",
   "metadata": {},
   "source": [
    "## Methods And Results ##"
   ]
  },
  {
   "cell_type": "markdown",
   "id": "fb595098-6e7d-4506-88d1-c918a9e1c8fc",
   "metadata": {},
   "source": [
    "### Exploring the data ###"
   ]
  },
  {
   "cell_type": "code",
   "execution_count": null,
   "id": "1ced8a98-5941-475c-96b9-6bede9724d41",
   "metadata": {},
   "outputs": [],
   "source": [
    "#Load Libraries\n",
    "library(tidyverse)\n",
    "library(repr)\n",
    "library(tidymodels)"
   ]
  },
  {
   "cell_type": "markdown",
   "id": "c1c52fd4-8dd5-4304-a99e-45a317e0c162",
   "metadata": {},
   "source": [
    "1. The first thing I will do is to explore the data so we can prepare it for our analysis. "
   ]
  },
  {
   "cell_type": "code",
   "execution_count": null,
   "id": "abb54851-39ac-4ab1-ac9d-b4c2ad973e11",
   "metadata": {},
   "outputs": [],
   "source": [
    "# Explore the Data \n",
    "players<- read_csv(\"players.csv\")"
   ]
  },
  {
   "cell_type": "markdown",
   "id": "3415ce53-74ec-4d62-a752-29f76eb4d9d6",
   "metadata": {},
   "source": [
    "We can see that this data set has 196 rows and 7 variables. This data set is also organized using the \",\" delimeter."
   ]
  },
  {
   "cell_type": "markdown",
   "id": "ff508b19-f7f3-48b7-ab44-45b4496d153e",
   "metadata": {},
   "source": [
    "2. Now that I have explored the data, I could see what each variable is and what type of variable they are. Since I am trying to see if Age and Hours Played are good predictors of the player subscribing to the newsletter, I will `select` only those 3 variables and also `mutate` the *subscribe* variable into a factor instead of logical and drop the na in the dataset. "
   ]
  },
  {
   "cell_type": "code",
   "execution_count": null,
   "id": "c7303229-5abd-4650-a051-c9746513042a",
   "metadata": {},
   "outputs": [],
   "source": [
    "#Load and clean the data\n",
    "players<- read_csv(\"players.csv\") |> \n",
    "filter(!is.na(Age)) |>\n",
    "select(subscribe, played_hours, Age)|> \n",
    "mutate(subscribe= as.factor(subscribe))  \n",
    "\n",
    "players"
   ]
  },
  {
   "cell_type": "markdown",
   "id": "fa38b5a2-87c0-43e7-be0c-ade5b19eafd9",
   "metadata": {},
   "source": [
    "3. Now that I have loaded, explored and cleaned the data, I will see what is the average age and hours played of the players so we can have an idea of some of the data's parametrics. "
   ]
  },
  {
   "cell_type": "code",
   "execution_count": null,
   "id": "d679039e-9c9d-452c-aec7-4df580e55fd4",
   "metadata": {},
   "outputs": [],
   "source": [
    "players_summary <- players |>\n",
    "summarize(mean_age = mean(Age, na.rm = TRUE),\n",
    "mean_hours = mean(played_hours, na.rm = TRUE))\n",
    "players_summary"
   ]
  },
  {
   "cell_type": "markdown",
   "id": "a98035dd-4520-4ae0-b1fa-4b28b524595d",
   "metadata": {},
   "source": [
    "By running the code above, I can conclude that the average hours played by the players in the data set is 5 and their mean age is 20. "
   ]
  },
  {
   "cell_type": "markdown",
   "id": "9a5e233e-e920-4859-b1ca-4c252ab05058",
   "metadata": {},
   "source": [
    "4. I will also check the range of numbers of played hours and Age so can see how imporant it is to standardize this data. "
   ]
  },
  {
   "cell_type": "code",
   "execution_count": null,
   "id": "f3054668-156e-480c-8d98-0650d7bdc2ab",
   "metadata": {},
   "outputs": [],
   "source": [
    "played_hours_range <- players |>\n",
    "summarise(hours_range = max(played_hours, na.rm = TRUE) - min(played_hours, na.rm = TRUE))\n",
    "\n",
    "Age_range <- players |>\n",
    "summarise(age_range = max(Age, na.rm = TRUE) - min(Age, na.rm = TRUE))\n",
    "\n",
    "Age_range\n",
    "played_hours_range"
   ]
  },
  {
   "cell_type": "markdown",
   "id": "712b2e5b-04eb-400d-8253-c9316db90dd8",
   "metadata": {},
   "source": [
    "We can see that hours range has a much bigger range of values than age, meaning that if we don't standardize the variable *hours_played* will have a much bigger weight on the classifier than *Age*. "
   ]
  },
  {
   "cell_type": "markdown",
   "id": "0fef5459-315b-47d1-9be1-778187371334",
   "metadata": {},
   "source": [
    "### Scatter Plot Visualization\n",
    "I created a scatter plot of Age vs. Played Hours, colored by subscription, to explore how the data is distributed and whether these variables seem to relate to subscribing. This help me vizualize how the data is spread out. "
   ]
  },
  {
   "cell_type": "code",
   "execution_count": null,
   "id": "749c21a9-eeb5-488f-8304-77379747782e",
   "metadata": {},
   "outputs": [],
   "source": [
    "players |> \n",
    "ggplot(aes(x = Age, y = played_hours, color = subscribe)) +\n",
    "geom_point(alpha = 0.4) +\n",
    "labs(title = \"Scatter Plot of Age vs Played Hours by Subscription Factor\",\n",
    "x = \"Age\",\n",
    "y = \"Played Hours\",\n",
    "color = \"Subscribed\") +\n",
    "ylim(0, 10)"
   ]
  },
  {
   "cell_type": "markdown",
   "id": "0fbc7714-9b81-4ed5-91da-194ee0dc0b4f",
   "metadata": {},
   "source": [
    "**Figure 1**\n",
    "Scatter plot that shows each observation in the data set and is colored by wheter they player has subscribed or not. Age being in the x-axis and plyed hours in the y-axis."
   ]
  },
  {
   "cell_type": "markdown",
   "id": "0e57186b-d8db-4bef-b83a-4dfca68d6134",
   "metadata": {},
   "source": [
    "From this plot I can see that data is quite spread out when we look at age. But we can also see that most of the data lies below the 7.5 hours mark. When plotting I decided to limit the y-axis to 0 to 10 because the data was very concentrated below the vertical line at y=5."
   ]
  },
  {
   "cell_type": "markdown",
   "id": "4bd890de-209d-4e4c-93cb-4c5e5d4ee561",
   "metadata": {},
   "source": [
    "### *Step 1*: Data Splitting\n",
    "For us to find the best number of K as well as test if our classifier is a good model we will split the data into a training and test subset. I chose to pick a proportion of 70%, because that is the proportion I have seen in most of the tutorials and worksheets."
   ]
  },
  {
   "cell_type": "code",
   "execution_count": null,
   "id": "e923190a-2543-41e4-9136-ff56512893ee",
   "metadata": {},
   "outputs": [],
   "source": [
    "set.seed(123)\n",
    "players_split <- initial_split(players, prop = 0.7, strata = subscribe)\n",
    "players_train <- training(players_split)\n",
    "players_test <- testing(players_split)"
   ]
  },
  {
   "cell_type": "markdown",
   "id": "1a56e6a8-603b-457c-a565-3b51db210d61",
   "metadata": {},
   "source": [
    "### *Step 2*: Preprocessing Recipe\n",
    "I set my recipe and standardized the predictors so they can have the same weight on the classifier. "
   ]
  },
  {
   "cell_type": "code",
   "execution_count": null,
   "id": "c9068448-07ca-47a7-b763-e921c97cdd46",
   "metadata": {},
   "outputs": [],
   "source": [
    "players_recipe <- recipe(subscribe ~ played_hours + Age, data = players_train) |>\n",
    "step_center(all_predictors()) |>\n",
    "step_scale(all_predictors())\n"
   ]
  },
  {
   "cell_type": "markdown",
   "id": "8a4240b9-f2c5-4636-8c2f-30ee71dbd32b",
   "metadata": {},
   "source": [
    "### *Step 3*: Specify KNN Model "
   ]
  },
  {
   "cell_type": "markdown",
   "id": "ca5ff5e1-fa3b-4a4c-b518-5ceabb1a2b21",
   "metadata": {},
   "source": [
    "This third step I am setting my model specification, in this part is interesting to highlight that I am setting my neighnors as tune, becaus later on I will find the best k to use on my model. "
   ]
  },
  {
   "cell_type": "code",
   "execution_count": null,
   "id": "d7e8bc65-f3ff-4355-82d3-caf5e382570d",
   "metadata": {},
   "outputs": [],
   "source": [
    "knn_spec <- nearest_neighbor(weight_func = \"rectangular\", neighbors = tune()) |>\n",
    "set_engine(\"kknn\") |>\n",
    "set_mode(\"classification\")"
   ]
  },
  {
   "cell_type": "markdown",
   "id": "99f42dab-a4ad-43ef-b819-0749ff453f03",
   "metadata": {},
   "source": [
    "### *Step 4*: 5-Fold Cross Validation"
   ]
  },
  {
   "cell_type": "markdown",
   "id": "753928d4-5dad-4d5a-9c33-a022d5736074",
   "metadata": {},
   "source": [
    "I have chosen to perform a 5-fold cross validation, because I want all my data to be at least once in the validation subset and at least one in the training subset. I chose this approach to reduce the chances of getting results that are purely affected my luck/randomness and also avoid overfitting."
   ]
  },
  {
   "cell_type": "code",
   "execution_count": null,
   "id": "7d49cbd2-175a-44fb-a0ca-829e29b9e46c",
   "metadata": {},
   "outputs": [],
   "source": [
    "set.seed(123)\n",
    "players_vfold <- vfold_cv(players_train, v = 5, strata = subscribe)"
   ]
  },
  {
   "cell_type": "markdown",
   "id": "245eebbc-73c7-427f-a7a7-dcba7d3062f0",
   "metadata": {},
   "source": [
    "### *Step 5*: Create Grid of K values"
   ]
  },
  {
   "cell_type": "code",
   "execution_count": null,
   "id": "0c39aeeb-9e54-4944-9e81-f909c29f4c1a",
   "metadata": {},
   "outputs": [],
   "source": [
    "k_vals <- tibble(neighbors = seq(1, 15, by = 2))"
   ]
  },
  {
   "cell_type": "markdown",
   "id": "e4a5583f-70a6-4ab2-a67d-52c40992ce86",
   "metadata": {},
   "source": [
    "### *Step 6: Define Workflow and Tune Model*"
   ]
  },
  {
   "cell_type": "code",
   "execution_count": null,
   "id": "b7599094-1f37-45a3-b8f6-b110e2cda5f7",
   "metadata": {},
   "outputs": [],
   "source": [
    "players_workflow <- workflow() |>\n",
    "add_recipe(players_recipe) |>\n",
    "add_model(knn_spec)"
   ]
  },
  {
   "cell_type": "code",
   "execution_count": null,
   "id": "535e60c1-5c1e-4d82-8a75-2f56eb640392",
   "metadata": {},
   "outputs": [],
   "source": [
    "set.seed(123)\n",
    "knn_results <- players_workflow |>\n",
    "tune_grid(resamples = players_vfold, grid = k_vals) |>\n",
    "collect_metrics()\n",
    "\n",
    "knn_results "
   ]
  },
  {
   "cell_type": "markdown",
   "id": "b6c4ffa2-b9d3-461a-9f66-8f5dcaf7526a",
   "metadata": {},
   "source": [
    "### *Step 7: Select Best K by Accuracy*"
   ]
  },
  {
   "cell_type": "code",
   "execution_count": null,
   "id": "6eebd3b6-229d-4d7a-a921-e67e4efa5677",
   "metadata": {},
   "outputs": [],
   "source": [
    "accuracies <- knn_results |> filter(.metric == \"accuracy\")\n",
    "accuracies"
   ]
  },
  {
   "cell_type": "code",
   "execution_count": null,
   "id": "f88dde30-b72d-493b-81af-eb786729dec1",
   "metadata": {},
   "outputs": [],
   "source": [
    "best_k <- accuracies |> \n",
    "  slice_max(mean) |> \n",
    "  pull(neighbors)\n",
    "\n",
    "best_k"
   ]
  },
  {
   "cell_type": "markdown",
   "id": "a3db499b-75c4-4873-8170-ff96ce862d11",
   "metadata": {},
   "source": [
    "In this step I was able to find that the best numbe rof neighbours would be 13."
   ]
  },
  {
   "cell_type": "markdown",
   "id": "21548587-e387-481f-9023-adcc5eefa8e2",
   "metadata": {},
   "source": [
    "### *Step 8*: Finalize Model with Best K"
   ]
  },
  {
   "cell_type": "code",
   "execution_count": null,
   "id": "c4b360cb-4c58-47b8-9cd8-7769dee7f203",
   "metadata": {},
   "outputs": [],
   "source": [
    "final_knn_spec <- nearest_neighbor(weight_func = \"rectangular\", neighbors = best_k) |>\n",
    "  set_engine(\"kknn\") |>\n",
    "  set_mode(\"classification\")\n",
    "\n",
    "final_workflow <- workflow() |>\n",
    "  add_recipe(players_recipe) |>\n",
    "  add_model(final_knn_spec)\n",
    "\n",
    "final_fit <- final_workflow |> fit(data = players_train)"
   ]
  },
  {
   "cell_type": "markdown",
   "id": "8e8403c4-c8e6-4d73-bb4b-5249c18e1f04",
   "metadata": {},
   "source": [
    "### *Step 9*: Predict on Test Set & Evaluate"
   ]
  },
  {
   "cell_type": "code",
   "execution_count": null,
   "id": "ab9ca240-83ee-4bb1-acec-c09970e078fc",
   "metadata": {},
   "outputs": [],
   "source": [
    "test_predictions <- predict(final_fit, players_test) |> \n",
    "bind_cols(players_test)\n",
    "\n",
    "test_metrics <- test_predictions |> \n",
    "metrics(truth = subscribe, estimate = .pred_class)\n",
    "\n",
    "test_metrics"
   ]
  },
  {
   "cell_type": "markdown",
   "id": "0069ea24-bf03-4ded-bdea-017bec69f73b",
   "metadata": {},
   "source": [
    "### *Step 10: Confusion Matrix*"
   ]
  },
  {
   "cell_type": "code",
   "execution_count": null,
   "id": "495fef59-bd7e-4622-bbd6-d71dcdb0a572",
   "metadata": {},
   "outputs": [],
   "source": [
    "conf_matrix_data <- conf_mat(test_predictions, truth = subscribe, estimate = .pred_class)\n",
    "conf_matrix_data"
   ]
  },
  {
   "cell_type": "code",
   "execution_count": null,
   "id": "6248bc2f-86f9-4df0-bb41-818a0832c53d",
   "metadata": {},
   "outputs": [],
   "source": [
    "conf_matrix_data <- data.frame(\n",
    "Prediction = c(\"FALSE\", \"FALSE\", \"TRUE\", \"TRUE\"),\n",
    "Truth = c(\"FALSE\", \"TRUE\", \"FALSE\", \"TRUE\"),\n",
    "Count = c(3, 3, 13, 40))\n",
    "conf_matrix_data"
   ]
  },
  {
   "cell_type": "code",
   "execution_count": null,
   "id": "8a52d7bb-b875-4f9a-80ee-8a0b19358a85",
   "metadata": {},
   "outputs": [],
   "source": [
    "ggplot(conf_matrix_data, aes(x = Truth, y = Count, fill = Prediction)) +\n",
    "geom_bar(stat = \"identity\", position = \"dodge\") +\n",
    "labs(title = \"Confusion Matrix (Grouped Bar Chart)\",x = \"Actual (Truth)\", y = \"Count\",fill = \"Predicted\") "
   ]
  },
  {
   "cell_type": "markdown",
   "id": "7e5dbb07-84a2-4214-a10d-78b58647f063",
   "metadata": {},
   "source": [
    "**Figure 2**\n",
    "Bar Chart of how many correct and wrong predictions the classifier got it. "
   ]
  },
  {
   "cell_type": "markdown",
   "id": "3b0fc24f-a573-42ee-8bd8-2e18030b7566",
   "metadata": {},
   "source": [
    "### Notes on the Method Chosen to Perform this Data Analysis ###\n",
    "For this project I used a classification model because the goal is to predict whether a player subscribes based on 2 variables: age and played hours, which are both numerical. This method is appropriate since I am trying to predict a factor/category. I split the data into training and test sets (70/10) and used 5-fold cross-validation on the training set to tune and compare models. \n",
    "\n",
    "The main assumption that I have used when implementing the KNN classifier is that similar observations have similar caratheristics. However, one limitation of this model is that it can be affected by noise and randomness (even tough I used cross validation to avoid it). "
   ]
  },
  {
   "cell_type": "markdown",
   "id": "da90c992-881c-4048-86f2-5eb6f081aee4",
   "metadata": {},
   "source": [
    "## Discussion and Conclusion ##"
   ]
  },
  {
   "cell_type": "markdown",
   "id": "b6b2ebda-96ca-4ec0-9465-d614dc7a8cd1",
   "metadata": {},
   "source": [
    "Through this analysis, we found that the classifier I developed achieves an accuracy of approximately 73%, meaning it correctly predicts the subscription status about three-quarters of the time.\n",
    "\n",
    "I was somewhat surprised by this level of accuracy, given that the model relies on only two variables — Age and Played Hours. Intuitively, I expected additional factors to play a significant role in predicting subscription behavior. This result suggests that Age and Played Hours alone hold considerable predictive power, though likely not the full story.\n",
    "\n",
    "However, this finding also indicates that relying solely on these two variables may be insufficient for fully understanding or accurately predicting subscription behavior. Important factors beyond Age and Played Hours may influence subscription decisions, and excluding them could lead to incomplete or misleading conclusions.\n",
    "\n",
    "A key question arising from this analysis is: To what extent could targeted marketing strategies informed by these predictions improve actual subscription conversion rates? Exploring this could help translate predictive insights into practical actions that enhance user engagement."
   ]
  }
 ],
 "metadata": {
  "kernelspec": {
   "display_name": "R",
   "language": "R",
   "name": "ir"
  },
  "language_info": {
   "codemirror_mode": "r",
   "file_extension": ".r",
   "mimetype": "text/x-r-source",
   "name": "R",
   "pygments_lexer": "r",
   "version": "4.3.3"
  }
 },
 "nbformat": 4,
 "nbformat_minor": 5
}
