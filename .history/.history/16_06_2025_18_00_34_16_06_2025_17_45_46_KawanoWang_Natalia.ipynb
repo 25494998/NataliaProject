{
 "cells": [
  {
   "cell_type": "markdown",
   "id": "6be88658-1989-43ae-aa1d-7c0812599c99",
   "metadata": {},
   "source": [
    "# Title: Accuracy of Predicting Newsletter Subscription by Looking at Player's Age and Hours Played #"
   ]
  },
  {
   "cell_type": "markdown",
   "id": "612c217f-1624-4fab-a36b-221cc4d9b865",
   "metadata": {},
   "source": [
    "## Introduction ##\n",
    "##### Understanding user engagement in online platforms such as video games is critical for developers and researchers. In this project, I analyze data from a Minecraft research server to determine if using players' **age** and **hours played** can be a reliable way to predict whether they subscribe to a game-related newsletter.The aim of this project is to help a research group at UBC target their recruitment efforts #####\n",
    "\n",
    "##### For this project I used the data players.csv, which contains the following variables: #####\n",
    "| Variable       | Description                                      | Type        |\n",
    "|----------------|--------------------------------------------------|-------------|\n",
    "| experience     | Experience metric (not used in this analysis)    | Numeric     |\n",
    "| subscribe      | Whether the player subscribed to the newsletter  | Logical |\n",
    "| hashedEmail    | Unique identifier for player (not used)          | Text        |\n",
    "| played_hours   | Total hours the player played                    | Numeric     |\n",
    "| name           | Player name (not used)                           | Text        |\n",
    "| gender         | Player gender (not used)                         | Text        |\n",
    "| Age            | Player age                                       | Numeric     |\n",
    "\n",
    "\n",
    "##### This dataset contains 197 observations. #####"
   ]
  },
  {
   "cell_type": "markdown",
   "id": "bb762585-3e75-4a78-b9da-4e6d8559b7a4",
   "metadata": {},
   "source": [
    "## Methods And Results ##"
   ]
  },
  {
   "cell_type": "code",
   "execution_count": null,
   "id": "1ced8a98-5941-475c-96b9-6bede9724d41",
   "metadata": {},
   "outputs": [],
   "source": [
    "#Load Libraries\n",
    "library(tidyverse)\n",
    "library(repr)\n",
    "library(tidymodels)"
   ]
  },
  {
   "cell_type": "markdown",
   "id": "c1c52fd4-8dd5-4304-a99e-45a317e0c162",
   "metadata": {},
   "source": [
    "1. The first thing I will do is to explore the data so we can prepare it for our analysis. "
   ]
  },
  {
   "cell_type": "code",
   "execution_count": null,
   "id": "abb54851-39ac-4ab1-ac9d-b4c2ad973e11",
   "metadata": {},
   "outputs": [],
   "source": [
    "# Explore the Data \n",
    "players<- read_csv(\"players.csv\")"
   ]
  },
  {
   "cell_type": "markdown",
   "id": "ff508b19-f7f3-48b7-ab44-45b4496d153e",
   "metadata": {},
   "source": [
    "2. Now that I have explored the data, I could see what each variable is and what type of variable they are. Since I am trying to see if Age and Hours Played are good predictors of the player subscribing to the newsletter, I will `select` only those 3 variables and also `mutate` the *subscribe* variable into a factor instead of logical and drop the na in the dataset. "
   ]
  },
  {
   "cell_type": "code",
   "execution_count": null,
   "id": "c7303229-5abd-4650-a051-c9746513042a",
   "metadata": {},
   "outputs": [],
   "source": [
    "#Load and clean the data\n",
    "players<- read_csv(\"players.csv\") |> \n",
    "filter(!is.na(Age)) |>\n",
    "select(subscribe, played_hours, Age)|> \n",
    "mutate(subscribe= as.factor(subscribe))  \n",
    "\n",
    "players"
   ]
  },
  {
   "cell_type": "markdown",
   "id": "fa38b5a2-87c0-43e7-be0c-ade5b19eafd9",
   "metadata": {},
   "source": [
    "3. Now that I have loaded, explored and cleaned the data, I will see what is the average age and hours played of the players."
   ]
  },
  {
   "cell_type": "code",
   "execution_count": null,
   "id": "d679039e-9c9d-452c-aec7-4df580e55fd4",
   "metadata": {},
   "outputs": [],
   "source": [
    "#Summarize the mean age and mean hours played so we can have an idea of the profile of an average player\n",
    "players_summary <- players |>\n",
    "summarize(mean_age = mean(Age, na.rm = TRUE),\n",
    "mean_hours = mean(played_hours, na.rm = TRUE))\n",
    "players_summary"
   ]
  },
  {
   "cell_type": "markdown",
   "id": "4bd890de-209d-4e4c-93cb-4c5e5d4ee561",
   "metadata": {},
   "source": [
    "### *Step 1*: Data Splitting\n",
    "For us to find the best number of K as well as test if our classifier is a good model we will split the data into a training and test subset."
   ]
  },
  {
   "cell_type": "code",
   "execution_count": null,
   "id": "e923190a-2543-41e4-9136-ff56512893ee",
   "metadata": {},
   "outputs": [],
   "source": [
    "set.seed(123)\n",
    "players_split <- initial_split(players, prop = 0.7, strata = subscribe)\n",
    "players_train <- training(players_split)\n",
    "players_test <- testing(players_split)"
   ]
  },
  {
   "cell_type": "markdown",
   "id": "1a56e6a8-603b-457c-a565-3b51db210d61",
   "metadata": {},
   "source": [
    "### *Step 2*: Preprocessing Recipe\n",
    "I set my recipe and standardized the predictors. "
   ]
  },
  {
   "cell_type": "code",
   "execution_count": null,
   "id": "c9068448-07ca-47a7-b763-e921c97cdd46",
   "metadata": {},
   "outputs": [],
   "source": [
    "players_recipe <- recipe(subscribe ~ played_hours + Age, data = players_train) |>\n",
    "step_center(all_predictors()) |>\n",
    "step_scale(all_predictors())\n"
   ]
  },
  {
   "cell_type": "markdown",
   "id": "8a4240b9-f2c5-4636-8c2f-30ee71dbd32b",
   "metadata": {},
   "source": [
    "### *Step 3*: Specify KNN Model "
   ]
  },
  {
   "cell_type": "code",
   "execution_count": null,
   "id": "9453c492-a577-4bbf-acae-6cd1d54bf8e1",
   "metadata": {},
   "outputs": [],
   "source": [
    "knn_spec <- nearest_neighbor(weight_func = \"rectangular\", neighbors = tune()) |>\n",
    "set_engine(\"kknn\") |>\n",
    "set_mode(\"classification\")"
   ]
  },
  {
   "cell_type": "code",
   "execution_count": null,
   "id": "22c77e81-332d-4cec-903a-1b0cd08eee1e",
   "metadata": {},
   "outputs": [],
   "source": []
  }
 ],
 "metadata": {
  "kernelspec": {
   "display_name": "R",
   "language": "R",
   "name": "ir"
  },
  "language_info": {
   "codemirror_mode": "r",
   "file_extension": ".r",
   "mimetype": "text/x-r-source",
   "name": "R",
   "pygments_lexer": "r",
   "version": "4.3.3"
  }
 },
 "nbformat": 4,
 "nbformat_minor": 5
}
